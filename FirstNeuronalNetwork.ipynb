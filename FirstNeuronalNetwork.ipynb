{
  "cells": [
    {
      "cell_type": "markdown",
      "metadata": {
        "colab_type": "text",
        "id": "view-in-github"
      },
      "source": [
        "<a href=\"https://colab.research.google.com/github/GustavoBD-Dev/neuronalnetworks/blob/main/FirstNeuronalNetwork.ipynb\" target=\"_parent\"><img src=\"https://colab.research.google.com/assets/colab-badge.svg\" alt=\"Open In Colab\"/></a>"
      ]
    },
    {
      "cell_type": "markdown",
      "metadata": {
        "id": "FUCf83dvGnl_"
      },
      "source": [
        "# **Red neuronal para convertir grados celsius a fahrenheit.**"
      ]
    },
    {
      "cell_type": "markdown",
      "metadata": {
        "id": "0lOIL_rBBfj8"
      },
      "source": [
        "Importamos las librerias a utilizar:\n",
        "\n",
        "\n",
        "*   `tensorflow`: libreria para IA de google\n",
        "*   `numpy`: libreria para arreglos numericos\n",
        "\n"
      ]
    },
    {
      "cell_type": "code",
      "execution_count": 2,
      "metadata": {
        "id": "C7U1MXlIreUR"
      },
      "outputs": [],
      "source": [
        "import tensorflow as tf\n",
        "import numpy as np"
      ]
    },
    {
      "cell_type": "markdown",
      "metadata": {
        "id": "gdTE1t9xB15T"
      },
      "source": [
        "Declaramos un arreglo de numeros (celsius) para establecer los valores de los grados celsius y un arreglo (fahrenheit) para los resultados en grados fahrenheit."
      ]
    },
    {
      "cell_type": "code",
      "execution_count": 3,
      "metadata": {
        "id": "dNHcdeH_-5oo"
      },
      "outputs": [],
      "source": [
        "celsius = np.array([-40, -10, 0, 8, 15, 22, 38])\n",
        "fahrenheit = np.array([-40, 14, 32, 46, 59, 72, 100])"
      ]
    },
    {
      "cell_type": "markdown",
      "metadata": {
        "id": "FomqPTvDCK9f"
      },
      "source": [
        "Diseñamos el modelo de red neuronal utilizando el framework Keras.\n",
        "Especificamos la capa de entrada y salida, inicializamos la primera capa como una capa densa, estas son las que tienen conexiones a todas las neruonas de la siguiente capa.\n",
        "\n",
        "*   `units`: neuronas de la capa\n",
        "*   `input_shape`: una entrada con una neurona\n",
        "\n",
        "El modelo a utilizar es el modelo secuencial, como argumento se coloca la capa que se ha creado."
      ]
    },
    {
      "cell_type": "code",
      "execution_count": 3,
      "metadata": {
        "id": "ZsRJfkTS_PhN"
      },
      "outputs": [],
      "source": [
        "capa = tf.keras.layers.Dense(units=1, input_shape=[1])\n",
        "modelo = tf.keras.Sequential([capa])"
      ]
    },
    {
      "cell_type": "markdown",
      "metadata": {
        "id": "nhv0yKYg92Q3"
      },
      "source": [
        "Utilizamos un modelo con mas capas y mas neuronas. Dos capas ocultas y una capa de salida."
      ]
    },
    {
      "cell_type": "code",
      "execution_count": 4,
      "metadata": {
        "id": "zdJ8kktZ-Dpo"
      },
      "outputs": [],
      "source": [
        "oculta1 = tf.keras.layers.Dense(units=3, input_shape=[1])\n",
        "oculta2 = tf.keras.layers.Dense(units=3)\n",
        "salida = tf.keras.layers.Dense(units=1)\n",
        "modelo = tf.keras.Sequential([oculta1, oculta2, salida])"
      ]
    },
    {
      "cell_type": "markdown",
      "metadata": {
        "id": "8RvrUYjuDwei"
      },
      "source": [
        "Compilamos, preparamos el modelo a ser entrenado.\n",
        "\n",
        "*   `optimizer`: permite a la red saber como ajustar los pesos de manera eficiente para que aprenda, el argumento indica la taza de aprendizaje, es decir que tanto ajustar los sesgos y pesos.\n",
        "*   `loss`: funcion de perdida."
      ]
    },
    {
      "cell_type": "code",
      "execution_count": 5,
      "metadata": {
        "id": "sPYP0tnm_hj-"
      },
      "outputs": [],
      "source": [
        "modelo.compile(\n",
        "    optimizer = tf.keras.optimizers.Adam(0.1),\n",
        "    loss='mean_squared_error'\n",
        ")"
      ]
    },
    {
      "cell_type": "markdown",
      "metadata": {
        "id": "No67P1N-Egux"
      },
      "source": [
        "Entrenamiento del modelo.\n",
        "\n",
        "\n",
        "1.   Elementos de entrada\n",
        "2.   Elementos de salida\n",
        "3.   Numero de epocas o vueltas\n",
        "4.   estado de entrenamiento (impresion de estado)"
      ]
    },
    {
      "cell_type": "code",
      "execution_count": 6,
      "metadata": {
        "colab": {
          "base_uri": "https://localhost:8080/"
        },
        "id": "mynKrSAtEkeV",
        "outputId": "c9ab9ff2-28dc-4c79-a1a7-4c2cf6abf90d"
      },
      "outputs": [
        {
          "name": "stdout",
          "output_type": "stream",
          "text": [
            "Comenzando el entrenamiento\n",
            "Modelo entrenado!!!\n"
          ]
        }
      ],
      "source": [
        "print('Comenzando el entrenamiento')\n",
        "historical = modelo.fit(celsius, fahrenheit, epochs=1000, verbose=False)\n",
        "print('Modelo entrenado!!!')"
      ]
    },
    {
      "cell_type": "markdown",
      "metadata": {
        "id": "CA9PXdhoGaLq"
      },
      "source": [
        "Se muestra la grafica con la magnitud de error de acuerdo a las epocas de entrenamiento."
      ]
    },
    {
      "cell_type": "code",
      "execution_count": 7,
      "metadata": {
        "colab": {
          "base_uri": "https://localhost:8080/",
          "height": 296
        },
        "id": "cpcu0GGEFjsO",
        "outputId": "b28a0d4c-0f61-4251-f825-395afed0606d"
      },
      "outputs": [
        {
          "data": {
            "text/plain": [
              "[<matplotlib.lines.Line2D at 0x7f0b55484f50>]"
            ]
          },
          "execution_count": 7,
          "metadata": {},
          "output_type": "execute_result"
        },
        {
          "data": {
            "image/png": "[encoded data removed]",
            "text/plain": [
              "<Figure size 432x288 with 1 Axes>"
            ]
          },
          "metadata": {
            "needs_background": "light"
          },
          "output_type": "display_data"
        }
      ],
      "source": [
        "import matplotlib.pyplot as plt\n",
        "plt.xlabel(\"# epoca\")\n",
        "plt.ylabel(\"Magnitud perdida\")\n",
        "plt.plot(historical.history[\"loss\"])"
      ]
    },
    {
      "cell_type": "markdown",
      "metadata": {
        "id": "16My529pGFfX"
      },
      "source": [
        "Prueba del modelo"
      ]
    },
    {
      "cell_type": "code",
      "execution_count": 8,
      "metadata": {
        "colab": {
          "base_uri": "https://localhost:8080/"
        },
        "id": "1xceztHOGEkM",
        "outputId": "d0baae1b-1911-4000-e661-1aa5a9eb6c97"
      },
      "outputs": [
        {
          "name": "stdout",
          "output_type": "stream",
          "text": [
            "Realizando predicción\n",
            "El resultado es [[211.74745]] fahrenheit!!\n"
          ]
        }
      ],
      "source": [
        "print(\"Realizando predicción\")\n",
        "resultado = modelo.predict([100])\n",
        "print(\"El resultado es \" + str(resultado) + \" fahrenheit!!\")"
      ]
    },
    {
      "cell_type": "markdown",
      "metadata": {},
      "source": [
        "El resultado correcto es: 100 grados Celcius a Farenheit = 212 Grados Farenheit.\n",
        "En conclusion, para obtener un mejor resultado, es decir mas exacto, se debe agregar mas datos como entrenamiento, mas a fondo modificar la red neuronal."
      ]
    },
    {
      "cell_type": "markdown",
      "metadata": {
        "id": "479gBhmZHKD7"
      },
      "source": [
        "Valores que se asignaron a los pesos y sesgo"
      ]
    },
    {
      "cell_type": "code",
      "execution_count": 8,
      "metadata": {
        "colab": {
          "base_uri": "https://localhost:8080/"
        },
        "id": "gyywnvq3HN8Z",
        "outputId": "b1a030e7-7a43-4be7-966a-d4bdb0d9c9d3"
      },
      "outputs": [
        {
          "name": "stdout",
          "output_type": "stream",
          "text": [
            "variables internas del modelo\n",
            "[array([[1.7981433]], dtype=float32), array([31.929619], dtype=float32)]\n"
          ]
        }
      ],
      "source": [
        "print(\"variables internas del modelo\")\n",
        "print(capa.get_weights())"
      ]
    }
  ],
  "metadata": {
    "accelerator": "TPU",
    "colab": {
      "authorship_tag": "ABX9TyPn+K5ciwew6cEXr+yyvNrn",
      "include_colab_link": true,
      "name": "FirstNeuronalNetwork.ipynb",
      "provenance": []
    },
    "kernelspec": {
      "display_name": "Python 3",
      "name": "python3"
    },
    "language_info": {
      "name": "python"
    }
  },
  "nbformat": 4,
  "nbformat_minor": 0
}
